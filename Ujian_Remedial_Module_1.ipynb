{
 "cells": [
  {
   "cell_type": "markdown",
   "metadata": {},
   "source": [
    "- Nama : Zulfahmi\n",
    "- Kelas : JC Data Science Batch 7\n",
    "- Remedial : Module 1"
   ]
  },
  {
   "cell_type": "markdown",
   "metadata": {},
   "source": [
    "### Soal 1\n",
    "Membuat fungsi yang mengembalikan panjang terpendek dari suatu string kata yang terpisahkan oleh spasi.\n",
    "- Note: Kembalikan panjang dari kata yang terpendek, bukan katanya yang dikembalikan"
   ]
  },
  {
   "cell_type": "code",
   "execution_count": 1,
   "metadata": {},
   "outputs": [],
   "source": [
    "def find_short(str):\n",
    "    word = str.split()\n",
    "    return len(min(word, key=len))"
   ]
  },
  {
   "cell_type": "code",
   "execution_count": 2,
   "metadata": {},
   "outputs": [
    {
     "name": "stdout",
     "output_type": "stream",
     "text": [
      "2\n",
      "5\n",
      "3\n"
     ]
    }
   ],
   "source": [
    "print(find_short('Many people get up early in the morning'))\n",
    "print(find_short('Every office would getting newest monitor'))\n",
    "print(find_short('Create new file after this morning'))"
   ]
  },
  {
   "cell_type": "markdown",
   "metadata": {},
   "source": [
    "### Soal 2\n",
    "Membuat fungsi yang menerima parameter angka positif, dan mengembalikan total berapa kali harus dikalikan digit dari angka tersebut hingga mencapai 1 digit."
   ]
  },
  {
   "cell_type": "code",
   "execution_count": 3,
   "metadata": {},
   "outputs": [],
   "source": [
    "def persistence(number):\n",
    "    if str(number) == 1:\n",
    "        return 0\n",
    "    container = 0\n",
    "    while len(str(number)) > 1:\n",
    "        total = 1\n",
    "        for i in str(number):\n",
    "            total *= int(i)\n",
    "        number = total\n",
    "        container += 1\n",
    "    return container"
   ]
  },
  {
   "cell_type": "code",
   "execution_count": 4,
   "metadata": {},
   "outputs": [
    {
     "name": "stdout",
     "output_type": "stream",
     "text": [
      "3\n",
      "4\n",
      "0\n"
     ]
    }
   ],
   "source": [
    "print(persistence(39))\n",
    "print(persistence(999))\n",
    "print(persistence(4))"
   ]
  },
  {
   "cell_type": "markdown",
   "metadata": {},
   "source": [
    "### Soal 3\n",
    "Membuat fungsi yang menerima dimensi dari Rows x Columns, sebagai parameter untuk membuat tabel multipikasi dengan ukuran sesuai dari dimensi yang diberikan dimana setiap value di tabel row berikutnya adalah hasil perkalian value di row pertama dengan row keberapa value tersebut berada."
   ]
  },
  {
   "cell_type": "code",
   "execution_count": 5,
   "metadata": {},
   "outputs": [],
   "source": [
    "def multiplication_table(row, col):\n",
    "    for r in range(1, row+1):\n",
    "        for c in range(1, col+1):\n",
    "            print(\"%6d\" % (c * r), end = '')\n",
    "        print('')"
   ]
  },
  {
   "cell_type": "code",
   "execution_count": 6,
   "metadata": {},
   "outputs": [
    {
     "name": "stdout",
     "output_type": "stream",
     "text": [
      "     1     2     3\n",
      "     2     4     6\n",
      "     3     6     9\n",
      "\n",
      "\n",
      "     1     2     3\n",
      "     2     4     6\n",
      "     3     6     9\n",
      "     4     8    12\n",
      "     5    10    15\n",
      "\n",
      "\n",
      "     1     2     3     4     5\n",
      "     2     4     6     8    10\n",
      "     3     6     9    12    15\n"
     ]
    }
   ],
   "source": [
    "multiplication_table(3,3)\n",
    "print('\\n')\n",
    "multiplication_table(5,3)\n",
    "print('\\n')\n",
    "multiplication_table(3,5)"
   ]
  },
  {
   "cell_type": "markdown",
   "metadata": {},
   "source": [
    "### Soal 4\n",
    "Membuat fungsi yang menerima string, dimana setiap huruf di string tersebut digantikan dengan posisinya di urutan alphabet. Bila ada string lain selain huruf alphabet, jangan dihiraukan.\n",
    "- Note: “a” = 1, “b” = 2, dst."
   ]
  },
  {
   "cell_type": "code",
   "execution_count": 3,
   "metadata": {},
   "outputs": [],
   "source": [
    "from string import ascii_lowercase"
   ]
  },
  {
   "cell_type": "code",
   "execution_count": 4,
   "metadata": {},
   "outputs": [],
   "source": [
    "Letter = {letters: str(index) for index, letters in enumerate(ascii_lowercase, start=1)}\n",
    "\n",
    "def alphabet_position(text):\n",
    "    text = text.lower()\n",
    "    position = [Letter[character] for character in text if character in Letter]\n",
    "    return ' '.join(position)"
   ]
  },
  {
   "cell_type": "code",
   "execution_count": 5,
   "metadata": {},
   "outputs": [
    {
     "name": "stdout",
     "output_type": "stream",
     "text": [
      "20 8 5 19 21 14 19 5 20 19 5 20 19 1 20 20 23 5 12 22 5 15 3 12 15 3 11\n",
      "\n",
      "\n",
      "9 20 19 14 5 22 5 18 20 15 15 12 1 20 5 20 15 20 18 25\n",
      "\n",
      "\n",
      "8 1 22 5 25 15 21 4 15 14 5 25 15 21 18 8 15 5 23 15 18 11\n",
      "\n",
      "\n",
      "1 2 3 4 5 6 7 1 14 4 19 20 1 18 20 20 15 19 9 14 7\n"
     ]
    }
   ],
   "source": [
    "print(alphabet_position(\"The sunset sets at twelve o' clock.\"))\n",
    "print('\\n')\n",
    "print(alphabet_position(\"it's never too late to try.\"))\n",
    "print('\\n')\n",
    "print(alphabet_position(\"Have you done your hoework?\"))\n",
    "print('\\n')\n",
    "print(alphabet_position(\"A B C D E F G and start to sing.\"))"
   ]
  },
  {
   "cell_type": "code",
   "execution_count": null,
   "metadata": {},
   "outputs": [],
   "source": []
  }
 ],
 "metadata": {
  "kernelspec": {
   "display_name": "Python 3",
   "language": "python",
   "name": "python3"
  },
  "language_info": {
   "codemirror_mode": {
    "name": "ipython",
    "version": 3
   },
   "file_extension": ".py",
   "mimetype": "text/x-python",
   "name": "python",
   "nbconvert_exporter": "python",
   "pygments_lexer": "ipython3",
   "version": "3.7.7"
  }
 },
 "nbformat": 4,
 "nbformat_minor": 4
}
